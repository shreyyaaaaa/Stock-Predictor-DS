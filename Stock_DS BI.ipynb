{
 "cells": [
  {
   "cell_type": "code",
   "execution_count": 5,
   "id": "529dfcbb",
   "metadata": {},
   "outputs": [],
   "source": [
    "import os\n",
    "import numpy as np\n",
    "import pandas as pd\n",
    "import matplotlib.pyplot as plt\n",
    "%matplotlib inline"
   ]
  },
  {
   "cell_type": "code",
   "execution_count": 6,
   "id": "a76e1c4d",
   "metadata": {},
   "outputs": [
    {
     "data": {
      "text/html": [
       "<div>\n",
       "<style scoped>\n",
       "    .dataframe tbody tr th:only-of-type {\n",
       "        vertical-align: middle;\n",
       "    }\n",
       "\n",
       "    .dataframe tbody tr th {\n",
       "        vertical-align: top;\n",
       "    }\n",
       "\n",
       "    .dataframe thead th {\n",
       "        text-align: right;\n",
       "    }\n",
       "</style>\n",
       "<table border=\"1\" class=\"dataframe\">\n",
       "  <thead>\n",
       "    <tr style=\"text-align: right;\">\n",
       "      <th></th>\n",
       "      <th>Date</th>\n",
       "      <th>Open</th>\n",
       "      <th>High</th>\n",
       "      <th>Low</th>\n",
       "      <th>Close</th>\n",
       "      <th>Volume</th>\n",
       "    </tr>\n",
       "  </thead>\n",
       "  <tbody>\n",
       "    <tr>\n",
       "      <th>0</th>\n",
       "      <td>3/1/2023</td>\n",
       "      <td>150.25</td>\n",
       "      <td>155.80</td>\n",
       "      <td>149.50</td>\n",
       "      <td>153.75</td>\n",
       "      <td>1,250,000</td>\n",
       "    </tr>\n",
       "    <tr>\n",
       "      <th>1</th>\n",
       "      <td>3/2/2023</td>\n",
       "      <td>154.00</td>\n",
       "      <td>159.50</td>\n",
       "      <td>153.00</td>\n",
       "      <td>158.25</td>\n",
       "      <td>1,450,000</td>\n",
       "    </tr>\n",
       "    <tr>\n",
       "      <th>2</th>\n",
       "      <td>3/3/2023</td>\n",
       "      <td>158.50</td>\n",
       "      <td>163.25</td>\n",
       "      <td>157.75</td>\n",
       "      <td>162.75</td>\n",
       "      <td>1,800,000</td>\n",
       "    </tr>\n",
       "    <tr>\n",
       "      <th>3</th>\n",
       "      <td>3/4/2023</td>\n",
       "      <td>163.00</td>\n",
       "      <td>167.50</td>\n",
       "      <td>162.00</td>\n",
       "      <td>167.00</td>\n",
       "      <td>1,600,000</td>\n",
       "    </tr>\n",
       "    <tr>\n",
       "      <th>4</th>\n",
       "      <td>3/5/2023</td>\n",
       "      <td>167.75</td>\n",
       "      <td>172.00</td>\n",
       "      <td>167.25</td>\n",
       "      <td>171.50</td>\n",
       "      <td>1,700,000</td>\n",
       "    </tr>\n",
       "  </tbody>\n",
       "</table>\n",
       "</div>"
      ],
      "text/plain": [
       "       Date    Open    High     Low   Close     Volume\n",
       "0  3/1/2023  150.25  155.80  149.50  153.75  1,250,000\n",
       "1  3/2/2023  154.00  159.50  153.00  158.25  1,450,000\n",
       "2  3/3/2023  158.50  163.25  157.75  162.75  1,800,000\n",
       "3  3/4/2023  163.00  167.50  162.00  167.00  1,600,000\n",
       "4  3/5/2023  167.75  172.00  167.25  171.50  1,700,000"
      ]
     },
     "execution_count": 6,
     "metadata": {},
     "output_type": "execute_result"
    }
   ],
   "source": [
    "dataset_train = pd.read_csv(\"StockPriceTrain.csv\")\n",
    "dataset_train.head()"
   ]
  },
  {
   "cell_type": "code",
   "execution_count": 7,
   "id": "bb336a31",
   "metadata": {},
   "outputs": [
    {
     "name": "stdout",
     "output_type": "stream",
     "text": [
      "[[150.25]\n",
      " [154.  ]\n",
      " [158.5 ]\n",
      " [163.  ]\n",
      " [167.75]\n",
      " [171.75]\n",
      " [176.25]\n",
      " [179.25]\n",
      " [182.5 ]\n",
      " [185.75]\n",
      " [190.  ]\n",
      " [193.25]\n",
      " [197.5 ]\n",
      " [201.75]\n",
      " [206.25]\n",
      " [210.25]\n",
      " [214.5 ]\n",
      " [218.75]\n",
      " [223.  ]\n",
      " [227.25]]\n",
      "(20, 1)\n"
     ]
    }
   ],
   "source": [
    "training_set = dataset_train.iloc[:,1:2].values\n",
    "\n",
    "print(training_set)\n",
    "print(training_set.shape)"
   ]
  },
  {
   "cell_type": "code",
   "execution_count": 8,
   "id": "18b08375",
   "metadata": {},
   "outputs": [
    {
     "data": {
      "image/png": "[encoded data removed]",
      "text/plain": [
       "<Figure size 640x480 with 1 Axes>"
      ]
     },
     "metadata": {},
     "output_type": "display_data"
    }
   ],
   "source": [
    "plt.plot(training_set)\n",
    "plt.xlabel(\"Time\")\n",
    "plt.ylabel(\"Open\")\n",
    "plt.title(\"Google Stock Price\")\n",
    "plt.show()"
   ]
  },
  {
   "cell_type": "code",
   "execution_count": 9,
   "id": "f136b9ac",
   "metadata": {},
   "outputs": [
    {
     "data": {
      "text/plain": [
       "array([[0.        ],\n",
       "       [0.0487013 ],\n",
       "       [0.10714286],\n",
       "       [0.16558442],\n",
       "       [0.22727273],\n",
       "       [0.27922078],\n",
       "       [0.33766234],\n",
       "       [0.37662338],\n",
       "       [0.41883117],\n",
       "       [0.46103896],\n",
       "       [0.51623377],\n",
       "       [0.55844156],\n",
       "       [0.61363636],\n",
       "       [0.66883117],\n",
       "       [0.72727273],\n",
       "       [0.77922078],\n",
       "       [0.83441558],\n",
       "       [0.88961039],\n",
       "       [0.94480519],\n",
       "       [1.        ]])"
      ]
     },
     "execution_count": 9,
     "metadata": {},
     "output_type": "execute_result"
    }
   ],
   "source": [
    "from sklearn.preprocessing import MinMaxScaler\n",
    "\n",
    "scaler = MinMaxScaler(feature_range = (0,1))\n",
    "scaled_training_set = scaler.fit_transform(training_set)\n",
    "\n",
    "scaled_training_set"
   ]
  },
  {
   "cell_type": "code",
   "execution_count": 14,
   "id": "f9d4a608",
   "metadata": {},
   "outputs": [],
   "source": [
    "x_train = []\n",
    "y_train = []\n",
    "\n",
    "for i in range(10,17):\n",
    "    x_train.append(scaled_training_set[i-5:i,0])\n",
    "    y_train.append(scaled_training_set[i,0])\n",
    "    \n",
    "x_train = np.array(x_train)\n",
    "y_train = np.array(y_train)"
   ]
  },
  {
   "cell_type": "code",
   "execution_count": 15,
   "id": "1a4b1a47",
   "metadata": {},
   "outputs": [
    {
     "name": "stdout",
     "output_type": "stream",
     "text": [
      "(7, 5)\n",
      "(7,)\n"
     ]
    }
   ],
   "source": [
    "print(x_train.shape)\n",
    "print(y_train.shape)"
   ]
  },
  {
   "cell_type": "code",
   "execution_count": 16,
   "id": "e06407e2",
   "metadata": {},
   "outputs": [
    {
     "data": {
      "text/plain": [
       "(7, 5, 1)"
      ]
     },
     "execution_count": 16,
     "metadata": {},
     "output_type": "execute_result"
    }
   ],
   "source": [
    "x_train = np.reshape(x_train,(x_train.shape[0], x_train.shape[1],1))\n",
    "x_train.shape"
   ]
  },
  {
   "cell_type": "code",
   "execution_count": null,
   "id": "17efa64f",
   "metadata": {},
   "outputs": [],
   "source": [
    "from keras.models import Sequential\n",
    "from keras.layers import LSTM\n",
    "from keras.layers import Dense\n",
    "from keras.layers import Dropout"
   ]
  }
 ],
 "metadata": {
  "kernelspec": {
   "display_name": "Python 3 (ipykernel)",
   "language": "python",
   "name": "python3"
  },
  "language_info": {
   "codemirror_mode": {
    "name": "ipython",
    "version": 3
   },
   "file_extension": ".py",
   "mimetype": "text/x-python",
   "name": "python",
   "nbconvert_exporter": "python",
   "pygments_lexer": "ipython3",
   "version": "3.11.4"
  }
 },
 "nbformat": 4,
 "nbformat_minor": 5
}
